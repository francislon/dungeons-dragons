{
 "cells": [
  {
   "cell_type": "markdown",
   "metadata": {},
   "source": [
    "<h1>Pandas introduction</h1>"
   ]
  },
  {
   "cell_type": "markdown",
   "metadata": {},
   "source": [
    "Pandas is a popular Python package for data science, and with good reason: it offers powerful, expressive and flexible data structures that make data manipulation and analysis easy, among many other things. "
   ]
  },
  {
   "cell_type": "code",
   "execution_count": 16,
   "metadata": {},
   "outputs": [],
   "source": [
    "import pandas as pd #pandas library\n",
    "import numpy as np #numpy library (numeric processly in Python)"
   ]
  },
  {
   "cell_type": "markdown",
   "metadata": {},
   "source": [
    "There are two structures types\n",
    "<ul>\n",
    "<li>Series</li>\n",
    "<li>Dataframe</li>\n",
    "</ul>"
   ]
  },
  {
   "cell_type": "markdown",
   "metadata": {},
   "source": [
    "<h3>Series</h3>\n",
    "\n",
    "A Series is like a one-dimensional array, a list of values. Every Series has an index, the index, that gives labels to each element of the list. \n",
    "\n",
    "You can create a Series with arrays"
   ]
  },
  {
   "cell_type": "code",
   "execution_count": 2,
   "metadata": {},
   "outputs": [
    {
     "data": {
      "text/plain": [
       "Bacillus         50\n",
       "Lactobacillus    15\n",
       "Salmonella       20\n",
       "Escherichia      35\n",
       "dtype: int64"
      ]
     },
     "execution_count": 2,
     "metadata": {},
     "output_type": "execute_result"
    }
   ],
   "source": [
    "s = pd.Series([50,15,20,35], index=['Bacillus', 'Lactobacillus', 'Salmonella', 'Escherichia'])\n",
    "s"
   ]
  },
  {
   "cell_type": "markdown",
   "metadata": {},
   "source": [
    "Or with Python dict"
   ]
  },
  {
   "cell_type": "code",
   "execution_count": 28,
   "metadata": {},
   "outputs": [
    {
     "data": {
      "text/plain": [
       "Bacillus         50\n",
       "Escherichia      35\n",
       "Lactobacillus    15\n",
       "Salmonella       20\n",
       "dtype: int64"
      ]
     },
     "execution_count": 28,
     "metadata": {},
     "output_type": "execute_result"
    }
   ],
   "source": [
    "dic = {'Bacillus':50, 'Lactobacillus':15, 'Salmonella':20, 'Escherichia':35}\n",
    "s = pd.Series(dic)\n",
    "s"
   ]
  },
  {
   "cell_type": "markdown",
   "metadata": {},
   "source": [
    "You can verify the attributes of our Series, ``value``, and ``index`` fundamental attributes:"
   ]
  },
  {
   "cell_type": "code",
   "execution_count": 4,
   "metadata": {},
   "outputs": [
    {
     "data": {
      "text/plain": [
       "Index(['Bacillus', 'Escherichia', 'Lactobacillus', 'Salmonella'], dtype='object')"
      ]
     },
     "execution_count": 4,
     "metadata": {},
     "output_type": "execute_result"
    }
   ],
   "source": [
    "s.index"
   ]
  },
  {
   "cell_type": "code",
   "execution_count": 5,
   "metadata": {},
   "outputs": [
    {
     "data": {
      "text/plain": [
       "array([50, 35, 15, 20])"
      ]
     },
     "execution_count": 5,
     "metadata": {},
     "output_type": "execute_result"
    }
   ],
   "source": [
    "s.values"
   ]
  },
  {
   "cell_type": "markdown",
   "metadata": {},
   "source": [
    "You can acess the item of your Serie using the index. Series is dict-like"
   ]
  },
  {
   "cell_type": "code",
   "execution_count": 6,
   "metadata": {},
   "outputs": [
    {
     "data": {
      "text/plain": [
       "50"
      ]
     },
     "execution_count": 6,
     "metadata": {},
     "output_type": "execute_result"
    }
   ],
   "source": [
    "s['Bacillus']"
   ]
  },
  {
   "cell_type": "code",
   "execution_count": 23,
   "metadata": {},
   "outputs": [
    {
     "data": {
      "text/plain": [
       "50"
      ]
     },
     "execution_count": 23,
     "metadata": {},
     "output_type": "execute_result"
    }
   ],
   "source": [
    "s.Bacillus"
   ]
  },
  {
   "cell_type": "markdown",
   "metadata": {},
   "source": [
    "There are function to statistics measures, like mean and standard deviation: "
   ]
  },
  {
   "cell_type": "code",
   "execution_count": 7,
   "metadata": {},
   "outputs": [
    {
     "name": "stdout",
     "output_type": "stream",
     "text": [
      "Mean: 30.0\n",
      "Standard deviation: 15.811388300841896\n"
     ]
    }
   ],
   "source": [
    "print(\"Mean:\", s.mean())\n",
    "print(\"Standard deviation:\", s.std())"
   ]
  },
  {
   "cell_type": "markdown",
   "metadata": {},
   "source": [
    "You can use a function to statistical summary: ``.describe``"
   ]
  },
  {
   "cell_type": "code",
   "execution_count": 10,
   "metadata": {},
   "outputs": [
    {
     "data": {
      "text/plain": [
       "count     4.000000\n",
       "mean     30.000000\n",
       "std      15.811388\n",
       "min      15.000000\n",
       "25%      18.750000\n",
       "50%      27.500000\n",
       "75%      38.750000\n",
       "max      50.000000\n",
       "dtype: float64"
      ]
     },
     "execution_count": 10,
     "metadata": {},
     "output_type": "execute_result"
    }
   ],
   "source": [
    "s.describe()"
   ]
  },
  {
   "cell_type": "markdown",
   "metadata": {},
   "source": [
    "You also can use math or numpy function, without use  "
   ]
  },
  {
   "cell_type": "code",
   "execution_count": 22,
   "metadata": {},
   "outputs": [
    {
     "name": "stdout",
     "output_type": "stream",
     "text": [
      "Bacillus         50\n",
      "Escherichia      35\n",
      "Lactobacillus    15\n",
      "Salmonella       20\n",
      "dtype: int64\n",
      "\n",
      "Bacillus         100\n",
      "Escherichia       70\n",
      "Lactobacillus     30\n",
      "Salmonella        40\n",
      "dtype: int64\n"
     ]
    }
   ],
   "source": [
    "print(str(s)+\"\\n\")\n",
    "print(s*2)"
   ]
  },
  {
   "cell_type": "code",
   "execution_count": 19,
   "metadata": {},
   "outputs": [
    {
     "data": {
      "text/plain": [
       "Bacillus         3.912023\n",
       "Escherichia      3.555348\n",
       "Lactobacillus    2.708050\n",
       "Salmonella       2.995732\n",
       "dtype: float64"
      ]
     },
     "execution_count": 19,
     "metadata": {},
     "output_type": "execute_result"
    }
   ],
   "source": [
    "np.log(s)"
   ]
  },
  {
   "cell_type": "markdown",
   "metadata": {},
   "source": [
    "<h3>Dataframe</h3>\n",
    "\n",
    "A Dataframe is like a data table, with index to columns and rows, as Series dicts. Into teh Dataframe the data are stored like a one or more two-dimensional blocks"
   ]
  },
  {
   "cell_type": "markdown",
   "metadata": {},
   "source": [
    "After you can see the Dataframe exemple using the GFF3 format. Use ``sep`` to separete the data, ``header``to columns names, and ``index_col`` to row labels. See more about Pandas I/O in https://pandas.pydata.org/pandas-docs/stable/user_guide/io.html"
   ]
  },
  {
   "cell_type": "code",
   "execution_count": 53,
   "metadata": {},
   "outputs": [
    {
     "data": {
      "text/html": [
       "<div>\n",
       "<style scoped>\n",
       "    .dataframe tbody tr th:only-of-type {\n",
       "        vertical-align: middle;\n",
       "    }\n",
       "\n",
       "    .dataframe tbody tr th {\n",
       "        vertical-align: top;\n",
       "    }\n",
       "\n",
       "    .dataframe thead th {\n",
       "        text-align: right;\n",
       "    }\n",
       "</style>\n",
       "<table border=\"1\" class=\"dataframe\">\n",
       "  <thead>\n",
       "    <tr style=\"text-align: right;\">\n",
       "      <th></th>\n",
       "      <th>1</th>\n",
       "      <th>2</th>\n",
       "      <th>3</th>\n",
       "      <th>4</th>\n",
       "      <th>5</th>\n",
       "      <th>6</th>\n",
       "      <th>7</th>\n",
       "      <th>8</th>\n",
       "    </tr>\n",
       "    <tr>\n",
       "      <th>0</th>\n",
       "      <th></th>\n",
       "      <th></th>\n",
       "      <th></th>\n",
       "      <th></th>\n",
       "      <th></th>\n",
       "      <th></th>\n",
       "      <th></th>\n",
       "      <th></th>\n",
       "    </tr>\n",
       "  </thead>\n",
       "  <tbody>\n",
       "    <tr>\n",
       "      <th>ctg123</th>\n",
       "      <td>.</td>\n",
       "      <td>mRNA</td>\n",
       "      <td>13</td>\n",
       "      <td>90</td>\n",
       "      <td>.</td>\n",
       "      <td>-</td>\n",
       "      <td>.</td>\n",
       "      <td>ID=mrna0001;Name=sonichedgehog</td>\n",
       "    </tr>\n",
       "    <tr>\n",
       "      <th>ctg123</th>\n",
       "      <td>.</td>\n",
       "      <td>exon</td>\n",
       "      <td>13</td>\n",
       "      <td>50</td>\n",
       "      <td>.</td>\n",
       "      <td>-</td>\n",
       "      <td>.</td>\n",
       "      <td>ID=exon00001;Parent=mrna0001</td>\n",
       "    </tr>\n",
       "    <tr>\n",
       "      <th>ctg123</th>\n",
       "      <td>.</td>\n",
       "      <td>exon</td>\n",
       "      <td>60</td>\n",
       "      <td>90</td>\n",
       "      <td>.</td>\n",
       "      <td>-</td>\n",
       "      <td>.</td>\n",
       "      <td>ID=exon00002;Parent=mrna0001</td>\n",
       "    </tr>\n",
       "    <tr>\n",
       "      <th>ctg456</th>\n",
       "      <td>.</td>\n",
       "      <td>mRNA</td>\n",
       "      <td>120</td>\n",
       "      <td>200</td>\n",
       "      <td>.</td>\n",
       "      <td>+</td>\n",
       "      <td>.</td>\n",
       "      <td>ID=mrna0002;Parent=mrna0002</td>\n",
       "    </tr>\n",
       "    <tr>\n",
       "      <th>ctg456</th>\n",
       "      <td>.</td>\n",
       "      <td>exon</td>\n",
       "      <td>120</td>\n",
       "      <td>135</td>\n",
       "      <td>.</td>\n",
       "      <td>+</td>\n",
       "      <td>.</td>\n",
       "      <td>ID=exon00001;Parent=mrna0002</td>\n",
       "    </tr>\n",
       "    <tr>\n",
       "      <th>ctg456</th>\n",
       "      <td>.</td>\n",
       "      <td>exon</td>\n",
       "      <td>180</td>\n",
       "      <td>200</td>\n",
       "      <td>.</td>\n",
       "      <td>+</td>\n",
       "      <td>.</td>\n",
       "      <td>ID=exon00001;Parent=mrna0002</td>\n",
       "    </tr>\n",
       "  </tbody>\n",
       "</table>\n",
       "</div>"
      ],
      "text/plain": [
       "        1     2    3    4  5  6  7                               8\n",
       "0                                                                 \n",
       "ctg123  .  mRNA   13   90  .  -  .  ID=mrna0001;Name=sonichedgehog\n",
       "ctg123  .  exon   13   50  .  -  .    ID=exon00001;Parent=mrna0001\n",
       "ctg123  .  exon   60   90  .  -  .    ID=exon00002;Parent=mrna0001\n",
       "ctg456  .  mRNA  120  200  .  +  .     ID=mrna0002;Parent=mrna0002\n",
       "ctg456  .  exon  120  135  .  +  .    ID=exon00001;Parent=mrna0002\n",
       "ctg456  .  exon  180  200  .  +  .    ID=exon00001;Parent=mrna0002"
      ]
     },
     "execution_count": 53,
     "metadata": {},
     "output_type": "execute_result"
    }
   ],
   "source": [
    "df = pd.read_csv(\"sequences.gff\", sep=\"\\t\", header=None, index_col=0)\n",
    "df"
   ]
  },
  {
   "cell_type": "markdown",
   "metadata": {},
   "source": [
    "In the table ``df``, it didn't get a columns names, so trying to use ``columns``"
   ]
  },
  {
   "cell_type": "code",
   "execution_count": 54,
   "metadata": {},
   "outputs": [
    {
     "ename": "ValueError",
     "evalue": "Length mismatch: Expected axis has 8 elements, new values have 9 elements",
     "output_type": "error",
     "traceback": [
      "\u001b[0;31m---------------------------------------------------------------------------\u001b[0m",
      "\u001b[0;31mValueError\u001b[0m                                Traceback (most recent call last)",
      "\u001b[0;32m<ipython-input-54-4092952b552d>\u001b[0m in \u001b[0;36m<module>\u001b[0;34m()\u001b[0m\n\u001b[0;32m----> 1\u001b[0;31m \u001b[0mdf\u001b[0m\u001b[0;34m.\u001b[0m\u001b[0mcolumns\u001b[0m \u001b[0;34m=\u001b[0m \u001b[0;34m[\u001b[0m\u001b[0;34m\"seqid\"\u001b[0m\u001b[0;34m,\u001b[0m\u001b[0;34m\"source\"\u001b[0m\u001b[0;34m,\u001b[0m \u001b[0;34m\"type\"\u001b[0m\u001b[0;34m,\u001b[0m \u001b[0;34m\"start\"\u001b[0m \u001b[0;34m,\u001b[0m \u001b[0;34m\"end\"\u001b[0m\u001b[0;34m,\u001b[0m \u001b[0;34m\"score\"\u001b[0m\u001b[0;34m,\u001b[0m \u001b[0;34m\"strand\"\u001b[0m\u001b[0;34m,\u001b[0m \u001b[0;34m\"phase\"\u001b[0m\u001b[0;34m,\u001b[0m \u001b[0;34m\"attributes\"\u001b[0m\u001b[0;34m]\u001b[0m\u001b[0;34m\u001b[0m\u001b[0m\n\u001b[0m",
      "\u001b[0;32m/anaconda3/lib/python3.6/site-packages/pandas/core/generic.py\u001b[0m in \u001b[0;36m__setattr__\u001b[0;34m(self, name, value)\u001b[0m\n\u001b[1;32m   3625\u001b[0m         \u001b[0;32mtry\u001b[0m\u001b[0;34m:\u001b[0m\u001b[0;34m\u001b[0m\u001b[0m\n\u001b[1;32m   3626\u001b[0m             \u001b[0mobject\u001b[0m\u001b[0;34m.\u001b[0m\u001b[0m__getattribute__\u001b[0m\u001b[0;34m(\u001b[0m\u001b[0mself\u001b[0m\u001b[0;34m,\u001b[0m \u001b[0mname\u001b[0m\u001b[0;34m)\u001b[0m\u001b[0;34m\u001b[0m\u001b[0m\n\u001b[0;32m-> 3627\u001b[0;31m             \u001b[0;32mreturn\u001b[0m \u001b[0mobject\u001b[0m\u001b[0;34m.\u001b[0m\u001b[0m__setattr__\u001b[0m\u001b[0;34m(\u001b[0m\u001b[0mself\u001b[0m\u001b[0;34m,\u001b[0m \u001b[0mname\u001b[0m\u001b[0;34m,\u001b[0m \u001b[0mvalue\u001b[0m\u001b[0;34m)\u001b[0m\u001b[0;34m\u001b[0m\u001b[0m\n\u001b[0m\u001b[1;32m   3628\u001b[0m         \u001b[0;32mexcept\u001b[0m \u001b[0mAttributeError\u001b[0m\u001b[0;34m:\u001b[0m\u001b[0;34m\u001b[0m\u001b[0m\n\u001b[1;32m   3629\u001b[0m             \u001b[0;32mpass\u001b[0m\u001b[0;34m\u001b[0m\u001b[0m\n",
      "\u001b[0;32mpandas/_libs/properties.pyx\u001b[0m in \u001b[0;36mpandas._libs.properties.AxisProperty.__set__\u001b[0;34m()\u001b[0m\n",
      "\u001b[0;32m/anaconda3/lib/python3.6/site-packages/pandas/core/generic.py\u001b[0m in \u001b[0;36m_set_axis\u001b[0;34m(self, axis, labels)\u001b[0m\n\u001b[1;32m    557\u001b[0m \u001b[0;34m\u001b[0m\u001b[0m\n\u001b[1;32m    558\u001b[0m     \u001b[0;32mdef\u001b[0m \u001b[0m_set_axis\u001b[0m\u001b[0;34m(\u001b[0m\u001b[0mself\u001b[0m\u001b[0;34m,\u001b[0m \u001b[0maxis\u001b[0m\u001b[0;34m,\u001b[0m \u001b[0mlabels\u001b[0m\u001b[0;34m)\u001b[0m\u001b[0;34m:\u001b[0m\u001b[0;34m\u001b[0m\u001b[0m\n\u001b[0;32m--> 559\u001b[0;31m         \u001b[0mself\u001b[0m\u001b[0;34m.\u001b[0m\u001b[0m_data\u001b[0m\u001b[0;34m.\u001b[0m\u001b[0mset_axis\u001b[0m\u001b[0;34m(\u001b[0m\u001b[0maxis\u001b[0m\u001b[0;34m,\u001b[0m \u001b[0mlabels\u001b[0m\u001b[0;34m)\u001b[0m\u001b[0;34m\u001b[0m\u001b[0m\n\u001b[0m\u001b[1;32m    560\u001b[0m         \u001b[0mself\u001b[0m\u001b[0;34m.\u001b[0m\u001b[0m_clear_item_cache\u001b[0m\u001b[0;34m(\u001b[0m\u001b[0;34m)\u001b[0m\u001b[0;34m\u001b[0m\u001b[0m\n\u001b[1;32m    561\u001b[0m \u001b[0;34m\u001b[0m\u001b[0m\n",
      "\u001b[0;32m/anaconda3/lib/python3.6/site-packages/pandas/core/internals.py\u001b[0m in \u001b[0;36mset_axis\u001b[0;34m(self, axis, new_labels)\u001b[0m\n\u001b[1;32m   3072\u001b[0m             raise ValueError('Length mismatch: Expected axis has %d elements, '\n\u001b[1;32m   3073\u001b[0m                              \u001b[0;34m'new values have %d elements'\u001b[0m \u001b[0;34m%\u001b[0m\u001b[0;34m\u001b[0m\u001b[0m\n\u001b[0;32m-> 3074\u001b[0;31m                              (old_len, new_len))\n\u001b[0m\u001b[1;32m   3075\u001b[0m \u001b[0;34m\u001b[0m\u001b[0m\n\u001b[1;32m   3076\u001b[0m         \u001b[0mself\u001b[0m\u001b[0;34m.\u001b[0m\u001b[0maxes\u001b[0m\u001b[0;34m[\u001b[0m\u001b[0maxis\u001b[0m\u001b[0;34m]\u001b[0m \u001b[0;34m=\u001b[0m \u001b[0mnew_labels\u001b[0m\u001b[0;34m\u001b[0m\u001b[0m\n",
      "\u001b[0;31mValueError\u001b[0m: Length mismatch: Expected axis has 8 elements, new values have 9 elements"
     ]
    }
   ],
   "source": [
    "df.columns = [\"seqid\",\"source\", \"type\", \"start\" , \"end\", \"score\", \"strand\", \"phase\", \"attributes\"]"
   ]
  },
  {
   "cell_type": "markdown",
   "metadata": {},
   "source": [
    "This error happened because our table has 8 colunms and 1 row label, and not 9 columns like our suggested previsly. You need use ``columns`` only columns, and ``index.name`` to row labels "
   ]
  },
  {
   "cell_type": "code",
   "execution_count": 55,
   "metadata": {},
   "outputs": [
    {
     "data": {
      "text/html": [
       "<div>\n",
       "<style scoped>\n",
       "    .dataframe tbody tr th:only-of-type {\n",
       "        vertical-align: middle;\n",
       "    }\n",
       "\n",
       "    .dataframe tbody tr th {\n",
       "        vertical-align: top;\n",
       "    }\n",
       "\n",
       "    .dataframe thead th {\n",
       "        text-align: right;\n",
       "    }\n",
       "</style>\n",
       "<table border=\"1\" class=\"dataframe\">\n",
       "  <thead>\n",
       "    <tr style=\"text-align: right;\">\n",
       "      <th></th>\n",
       "      <th>source</th>\n",
       "      <th>type</th>\n",
       "      <th>start</th>\n",
       "      <th>end</th>\n",
       "      <th>score</th>\n",
       "      <th>strand</th>\n",
       "      <th>phase</th>\n",
       "      <th>attributes</th>\n",
       "    </tr>\n",
       "    <tr>\n",
       "      <th>seqid</th>\n",
       "      <th></th>\n",
       "      <th></th>\n",
       "      <th></th>\n",
       "      <th></th>\n",
       "      <th></th>\n",
       "      <th></th>\n",
       "      <th></th>\n",
       "      <th></th>\n",
       "    </tr>\n",
       "  </thead>\n",
       "  <tbody>\n",
       "    <tr>\n",
       "      <th>ctg123</th>\n",
       "      <td>.</td>\n",
       "      <td>mRNA</td>\n",
       "      <td>13</td>\n",
       "      <td>90</td>\n",
       "      <td>.</td>\n",
       "      <td>-</td>\n",
       "      <td>.</td>\n",
       "      <td>ID=mrna0001;Name=sonichedgehog</td>\n",
       "    </tr>\n",
       "    <tr>\n",
       "      <th>ctg123</th>\n",
       "      <td>.</td>\n",
       "      <td>exon</td>\n",
       "      <td>13</td>\n",
       "      <td>50</td>\n",
       "      <td>.</td>\n",
       "      <td>-</td>\n",
       "      <td>.</td>\n",
       "      <td>ID=exon00001;Parent=mrna0001</td>\n",
       "    </tr>\n",
       "    <tr>\n",
       "      <th>ctg123</th>\n",
       "      <td>.</td>\n",
       "      <td>exon</td>\n",
       "      <td>60</td>\n",
       "      <td>90</td>\n",
       "      <td>.</td>\n",
       "      <td>-</td>\n",
       "      <td>.</td>\n",
       "      <td>ID=exon00002;Parent=mrna0001</td>\n",
       "    </tr>\n",
       "    <tr>\n",
       "      <th>ctg456</th>\n",
       "      <td>.</td>\n",
       "      <td>mRNA</td>\n",
       "      <td>120</td>\n",
       "      <td>200</td>\n",
       "      <td>.</td>\n",
       "      <td>+</td>\n",
       "      <td>.</td>\n",
       "      <td>ID=mrna0002;Parent=mrna0002</td>\n",
       "    </tr>\n",
       "    <tr>\n",
       "      <th>ctg456</th>\n",
       "      <td>.</td>\n",
       "      <td>exon</td>\n",
       "      <td>120</td>\n",
       "      <td>135</td>\n",
       "      <td>.</td>\n",
       "      <td>+</td>\n",
       "      <td>.</td>\n",
       "      <td>ID=exon00001;Parent=mrna0002</td>\n",
       "    </tr>\n",
       "    <tr>\n",
       "      <th>ctg456</th>\n",
       "      <td>.</td>\n",
       "      <td>exon</td>\n",
       "      <td>180</td>\n",
       "      <td>200</td>\n",
       "      <td>.</td>\n",
       "      <td>+</td>\n",
       "      <td>.</td>\n",
       "      <td>ID=exon00001;Parent=mrna0002</td>\n",
       "    </tr>\n",
       "  </tbody>\n",
       "</table>\n",
       "</div>"
      ],
      "text/plain": [
       "       source  type  start  end score strand phase  \\\n",
       "seqid                                                \n",
       "ctg123      .  mRNA     13   90     .      -     .   \n",
       "ctg123      .  exon     13   50     .      -     .   \n",
       "ctg123      .  exon     60   90     .      -     .   \n",
       "ctg456      .  mRNA    120  200     .      +     .   \n",
       "ctg456      .  exon    120  135     .      +     .   \n",
       "ctg456      .  exon    180  200     .      +     .   \n",
       "\n",
       "                            attributes  \n",
       "seqid                                   \n",
       "ctg123  ID=mrna0001;Name=sonichedgehog  \n",
       "ctg123    ID=exon00001;Parent=mrna0001  \n",
       "ctg123    ID=exon00002;Parent=mrna0001  \n",
       "ctg456     ID=mrna0002;Parent=mrna0002  \n",
       "ctg456    ID=exon00001;Parent=mrna0002  \n",
       "ctg456    ID=exon00001;Parent=mrna0002  "
      ]
     },
     "execution_count": 55,
     "metadata": {},
     "output_type": "execute_result"
    }
   ],
   "source": [
    "df.columns = [\"source\", \"type\", \"start\" , \"end\", \"score\", \"strand\", \"phase\", \"attributes\"]\n",
    "df.index.name = \"seqid\"\n",
    "df"
   ]
  },
  {
   "cell_type": "markdown",
   "metadata": {},
   "source": [
    "You can verify the fundamental attributes like Series, ``values``, ``index``, ``shape`` (table size), and ``describe``:"
   ]
  },
  {
   "cell_type": "code",
   "execution_count": 92,
   "metadata": {},
   "outputs": [
    {
     "name": "stdout",
     "output_type": "stream",
     "text": [
      "Type:source        object\n",
      "type          object\n",
      "start          int64\n",
      "end            int64\n",
      "score         object\n",
      "strand        object\n",
      "phase         object\n",
      "attributes    object\n",
      "dtype: object\n",
      "\n",
      "Columns:Index(['source', 'type', 'start', 'end', 'score', 'strand', 'phase',\n",
      "       'attributes'],\n",
      "      dtype='object')\n",
      "\n",
      "Size:(6, 8)\n",
      "\n"
     ]
    }
   ],
   "source": [
    "print(\"Type:\" + str(df.dtypes)+\"\\n\")\n",
    "print(\"Columns:\" +str(df.columns)+\"\\n\")\n",
    "print(\"Size:\" +str(df.shape)+\"\\n\")"
   ]
  },
  {
   "cell_type": "code",
   "execution_count": 94,
   "metadata": {},
   "outputs": [
    {
     "data": {
      "text/html": [
       "<div>\n",
       "<style scoped>\n",
       "    .dataframe tbody tr th:only-of-type {\n",
       "        vertical-align: middle;\n",
       "    }\n",
       "\n",
       "    .dataframe tbody tr th {\n",
       "        vertical-align: top;\n",
       "    }\n",
       "\n",
       "    .dataframe thead th {\n",
       "        text-align: right;\n",
       "    }\n",
       "</style>\n",
       "<table border=\"1\" class=\"dataframe\">\n",
       "  <thead>\n",
       "    <tr style=\"text-align: right;\">\n",
       "      <th></th>\n",
       "      <th>start</th>\n",
       "      <th>end</th>\n",
       "    </tr>\n",
       "  </thead>\n",
       "  <tbody>\n",
       "    <tr>\n",
       "      <th>count</th>\n",
       "      <td>6.000000</td>\n",
       "      <td>6.000000</td>\n",
       "    </tr>\n",
       "    <tr>\n",
       "      <th>mean</th>\n",
       "      <td>84.333333</td>\n",
       "      <td>127.500000</td>\n",
       "    </tr>\n",
       "    <tr>\n",
       "      <th>std</th>\n",
       "      <td>67.030341</td>\n",
       "      <td>62.269575</td>\n",
       "    </tr>\n",
       "    <tr>\n",
       "      <th>min</th>\n",
       "      <td>13.000000</td>\n",
       "      <td>50.000000</td>\n",
       "    </tr>\n",
       "    <tr>\n",
       "      <th>25%</th>\n",
       "      <td>24.750000</td>\n",
       "      <td>90.000000</td>\n",
       "    </tr>\n",
       "    <tr>\n",
       "      <th>50%</th>\n",
       "      <td>90.000000</td>\n",
       "      <td>112.500000</td>\n",
       "    </tr>\n",
       "    <tr>\n",
       "      <th>75%</th>\n",
       "      <td>120.000000</td>\n",
       "      <td>183.750000</td>\n",
       "    </tr>\n",
       "    <tr>\n",
       "      <th>max</th>\n",
       "      <td>180.000000</td>\n",
       "      <td>200.000000</td>\n",
       "    </tr>\n",
       "  </tbody>\n",
       "</table>\n",
       "</div>"
      ],
      "text/plain": [
       "            start         end\n",
       "count    6.000000    6.000000\n",
       "mean    84.333333  127.500000\n",
       "std     67.030341   62.269575\n",
       "min     13.000000   50.000000\n",
       "25%     24.750000   90.000000\n",
       "50%     90.000000  112.500000\n",
       "75%    120.000000  183.750000\n",
       "max    180.000000  200.000000"
      ]
     },
     "execution_count": 94,
     "metadata": {},
     "output_type": "execute_result"
    }
   ],
   "source": [
    "df.describe()"
   ]
  },
  {
   "cell_type": "markdown",
   "metadata": {},
   "source": [
    "Others general function is sort a column"
   ]
  },
  {
   "cell_type": "code",
   "execution_count": 61,
   "metadata": {},
   "outputs": [
    {
     "data": {
      "text/html": [
       "<div>\n",
       "<style scoped>\n",
       "    .dataframe tbody tr th:only-of-type {\n",
       "        vertical-align: middle;\n",
       "    }\n",
       "\n",
       "    .dataframe tbody tr th {\n",
       "        vertical-align: top;\n",
       "    }\n",
       "\n",
       "    .dataframe thead th {\n",
       "        text-align: right;\n",
       "    }\n",
       "</style>\n",
       "<table border=\"1\" class=\"dataframe\">\n",
       "  <thead>\n",
       "    <tr style=\"text-align: right;\">\n",
       "      <th></th>\n",
       "      <th>source</th>\n",
       "      <th>type</th>\n",
       "      <th>start</th>\n",
       "      <th>end</th>\n",
       "      <th>score</th>\n",
       "      <th>strand</th>\n",
       "      <th>phase</th>\n",
       "      <th>attributes</th>\n",
       "    </tr>\n",
       "    <tr>\n",
       "      <th>seqid</th>\n",
       "      <th></th>\n",
       "      <th></th>\n",
       "      <th></th>\n",
       "      <th></th>\n",
       "      <th></th>\n",
       "      <th></th>\n",
       "      <th></th>\n",
       "      <th></th>\n",
       "    </tr>\n",
       "  </thead>\n",
       "  <tbody>\n",
       "    <tr>\n",
       "      <th>ctg123</th>\n",
       "      <td>.</td>\n",
       "      <td>exon</td>\n",
       "      <td>13</td>\n",
       "      <td>50</td>\n",
       "      <td>.</td>\n",
       "      <td>-</td>\n",
       "      <td>.</td>\n",
       "      <td>ID=exon00001;Parent=mrna0001</td>\n",
       "    </tr>\n",
       "    <tr>\n",
       "      <th>ctg123</th>\n",
       "      <td>.</td>\n",
       "      <td>exon</td>\n",
       "      <td>60</td>\n",
       "      <td>90</td>\n",
       "      <td>.</td>\n",
       "      <td>-</td>\n",
       "      <td>.</td>\n",
       "      <td>ID=exon00002;Parent=mrna0001</td>\n",
       "    </tr>\n",
       "    <tr>\n",
       "      <th>ctg456</th>\n",
       "      <td>.</td>\n",
       "      <td>exon</td>\n",
       "      <td>120</td>\n",
       "      <td>135</td>\n",
       "      <td>.</td>\n",
       "      <td>+</td>\n",
       "      <td>.</td>\n",
       "      <td>ID=exon00001;Parent=mrna0002</td>\n",
       "    </tr>\n",
       "    <tr>\n",
       "      <th>ctg456</th>\n",
       "      <td>.</td>\n",
       "      <td>exon</td>\n",
       "      <td>180</td>\n",
       "      <td>200</td>\n",
       "      <td>.</td>\n",
       "      <td>+</td>\n",
       "      <td>.</td>\n",
       "      <td>ID=exon00001;Parent=mrna0002</td>\n",
       "    </tr>\n",
       "    <tr>\n",
       "      <th>ctg123</th>\n",
       "      <td>.</td>\n",
       "      <td>mRNA</td>\n",
       "      <td>13</td>\n",
       "      <td>90</td>\n",
       "      <td>.</td>\n",
       "      <td>-</td>\n",
       "      <td>.</td>\n",
       "      <td>ID=mrna0001;Name=sonichedgehog</td>\n",
       "    </tr>\n",
       "    <tr>\n",
       "      <th>ctg456</th>\n",
       "      <td>.</td>\n",
       "      <td>mRNA</td>\n",
       "      <td>120</td>\n",
       "      <td>200</td>\n",
       "      <td>.</td>\n",
       "      <td>+</td>\n",
       "      <td>.</td>\n",
       "      <td>ID=mrna0002;Parent=mrna0002</td>\n",
       "    </tr>\n",
       "  </tbody>\n",
       "</table>\n",
       "</div>"
      ],
      "text/plain": [
       "       source  type  start  end score strand phase  \\\n",
       "seqid                                                \n",
       "ctg123      .  exon     13   50     .      -     .   \n",
       "ctg123      .  exon     60   90     .      -     .   \n",
       "ctg456      .  exon    120  135     .      +     .   \n",
       "ctg456      .  exon    180  200     .      +     .   \n",
       "ctg123      .  mRNA     13   90     .      -     .   \n",
       "ctg456      .  mRNA    120  200     .      +     .   \n",
       "\n",
       "                            attributes  \n",
       "seqid                                   \n",
       "ctg123    ID=exon00001;Parent=mrna0001  \n",
       "ctg123    ID=exon00002;Parent=mrna0001  \n",
       "ctg456    ID=exon00001;Parent=mrna0002  \n",
       "ctg456    ID=exon00001;Parent=mrna0002  \n",
       "ctg123  ID=mrna0001;Name=sonichedgehog  \n",
       "ctg456     ID=mrna0002;Parent=mrna0002  "
      ]
     },
     "execution_count": 61,
     "metadata": {},
     "output_type": "execute_result"
    }
   ],
   "source": [
    "df.sort_values(by=\"type\")"
   ]
  },
  {
   "cell_type": "markdown",
   "metadata": {},
   "source": [
    "For select by the row label use ``loc``, you are selected by the sequence ID "
   ]
  },
  {
   "cell_type": "code",
   "execution_count": 65,
   "metadata": {},
   "outputs": [
    {
     "data": {
      "text/html": [
       "<div>\n",
       "<style scoped>\n",
       "    .dataframe tbody tr th:only-of-type {\n",
       "        vertical-align: middle;\n",
       "    }\n",
       "\n",
       "    .dataframe tbody tr th {\n",
       "        vertical-align: top;\n",
       "    }\n",
       "\n",
       "    .dataframe thead th {\n",
       "        text-align: right;\n",
       "    }\n",
       "</style>\n",
       "<table border=\"1\" class=\"dataframe\">\n",
       "  <thead>\n",
       "    <tr style=\"text-align: right;\">\n",
       "      <th></th>\n",
       "      <th>source</th>\n",
       "      <th>type</th>\n",
       "      <th>start</th>\n",
       "      <th>end</th>\n",
       "      <th>score</th>\n",
       "      <th>strand</th>\n",
       "      <th>phase</th>\n",
       "      <th>attributes</th>\n",
       "    </tr>\n",
       "    <tr>\n",
       "      <th>seqid</th>\n",
       "      <th></th>\n",
       "      <th></th>\n",
       "      <th></th>\n",
       "      <th></th>\n",
       "      <th></th>\n",
       "      <th></th>\n",
       "      <th></th>\n",
       "      <th></th>\n",
       "    </tr>\n",
       "  </thead>\n",
       "  <tbody>\n",
       "    <tr>\n",
       "      <th>ctg123</th>\n",
       "      <td>.</td>\n",
       "      <td>mRNA</td>\n",
       "      <td>13</td>\n",
       "      <td>90</td>\n",
       "      <td>.</td>\n",
       "      <td>-</td>\n",
       "      <td>.</td>\n",
       "      <td>ID=mrna0001;Name=sonichedgehog</td>\n",
       "    </tr>\n",
       "    <tr>\n",
       "      <th>ctg123</th>\n",
       "      <td>.</td>\n",
       "      <td>exon</td>\n",
       "      <td>13</td>\n",
       "      <td>50</td>\n",
       "      <td>.</td>\n",
       "      <td>-</td>\n",
       "      <td>.</td>\n",
       "      <td>ID=exon00001;Parent=mrna0001</td>\n",
       "    </tr>\n",
       "    <tr>\n",
       "      <th>ctg123</th>\n",
       "      <td>.</td>\n",
       "      <td>exon</td>\n",
       "      <td>60</td>\n",
       "      <td>90</td>\n",
       "      <td>.</td>\n",
       "      <td>-</td>\n",
       "      <td>.</td>\n",
       "      <td>ID=exon00002;Parent=mrna0001</td>\n",
       "    </tr>\n",
       "  </tbody>\n",
       "</table>\n",
       "</div>"
      ],
      "text/plain": [
       "       source  type  start  end score strand phase  \\\n",
       "seqid                                                \n",
       "ctg123      .  mRNA     13   90     .      -     .   \n",
       "ctg123      .  exon     13   50     .      -     .   \n",
       "ctg123      .  exon     60   90     .      -     .   \n",
       "\n",
       "                            attributes  \n",
       "seqid                                   \n",
       "ctg123  ID=mrna0001;Name=sonichedgehog  \n",
       "ctg123    ID=exon00001;Parent=mrna0001  \n",
       "ctg123    ID=exon00002;Parent=mrna0001  "
      ]
     },
     "execution_count": 65,
     "metadata": {},
     "output_type": "execute_result"
    }
   ],
   "source": [
    "df.loc[\"ctg123\"]"
   ]
  },
  {
   "cell_type": "code",
   "execution_count": 68,
   "metadata": {},
   "outputs": [
    {
     "data": {
      "text/html": [
       "<div>\n",
       "<style scoped>\n",
       "    .dataframe tbody tr th:only-of-type {\n",
       "        vertical-align: middle;\n",
       "    }\n",
       "\n",
       "    .dataframe tbody tr th {\n",
       "        vertical-align: top;\n",
       "    }\n",
       "\n",
       "    .dataframe thead th {\n",
       "        text-align: right;\n",
       "    }\n",
       "</style>\n",
       "<table border=\"1\" class=\"dataframe\">\n",
       "  <thead>\n",
       "    <tr style=\"text-align: right;\">\n",
       "      <th></th>\n",
       "      <th>source</th>\n",
       "      <th>type</th>\n",
       "      <th>start</th>\n",
       "      <th>end</th>\n",
       "      <th>score</th>\n",
       "      <th>strand</th>\n",
       "      <th>phase</th>\n",
       "      <th>attributes</th>\n",
       "    </tr>\n",
       "    <tr>\n",
       "      <th>seqid</th>\n",
       "      <th></th>\n",
       "      <th></th>\n",
       "      <th></th>\n",
       "      <th></th>\n",
       "      <th></th>\n",
       "      <th></th>\n",
       "      <th></th>\n",
       "      <th></th>\n",
       "    </tr>\n",
       "  </thead>\n",
       "  <tbody>\n",
       "    <tr>\n",
       "      <th>ctg456</th>\n",
       "      <td>.</td>\n",
       "      <td>mRNA</td>\n",
       "      <td>120</td>\n",
       "      <td>200</td>\n",
       "      <td>.</td>\n",
       "      <td>+</td>\n",
       "      <td>.</td>\n",
       "      <td>ID=mrna0002;Parent=mrna0002</td>\n",
       "    </tr>\n",
       "    <tr>\n",
       "      <th>ctg456</th>\n",
       "      <td>.</td>\n",
       "      <td>exon</td>\n",
       "      <td>120</td>\n",
       "      <td>135</td>\n",
       "      <td>.</td>\n",
       "      <td>+</td>\n",
       "      <td>.</td>\n",
       "      <td>ID=exon00001;Parent=mrna0002</td>\n",
       "    </tr>\n",
       "    <tr>\n",
       "      <th>ctg456</th>\n",
       "      <td>.</td>\n",
       "      <td>exon</td>\n",
       "      <td>180</td>\n",
       "      <td>200</td>\n",
       "      <td>.</td>\n",
       "      <td>+</td>\n",
       "      <td>.</td>\n",
       "      <td>ID=exon00001;Parent=mrna0002</td>\n",
       "    </tr>\n",
       "  </tbody>\n",
       "</table>\n",
       "</div>"
      ],
      "text/plain": [
       "       source  type  start  end score strand phase  \\\n",
       "seqid                                                \n",
       "ctg456      .  mRNA    120  200     .      +     .   \n",
       "ctg456      .  exon    120  135     .      +     .   \n",
       "ctg456      .  exon    180  200     .      +     .   \n",
       "\n",
       "                          attributes  \n",
       "seqid                                 \n",
       "ctg456   ID=mrna0002;Parent=mrna0002  \n",
       "ctg456  ID=exon00001;Parent=mrna0002  \n",
       "ctg456  ID=exon00001;Parent=mrna0002  "
      ]
     },
     "execution_count": 68,
     "metadata": {},
     "output_type": "execute_result"
    }
   ],
   "source": [
    "df.loc[\"ctg456\"]"
   ]
  },
  {
   "cell_type": "markdown",
   "metadata": {},
   "source": [
    "You can select using conditionals, without use directly ``if``\n",
    "\n",
    "For exemple: Find only sequences with negative strand"
   ]
  },
  {
   "cell_type": "code",
   "execution_count": 72,
   "metadata": {},
   "outputs": [
    {
     "data": {
      "text/html": [
       "<div>\n",
       "<style scoped>\n",
       "    .dataframe tbody tr th:only-of-type {\n",
       "        vertical-align: middle;\n",
       "    }\n",
       "\n",
       "    .dataframe tbody tr th {\n",
       "        vertical-align: top;\n",
       "    }\n",
       "\n",
       "    .dataframe thead th {\n",
       "        text-align: right;\n",
       "    }\n",
       "</style>\n",
       "<table border=\"1\" class=\"dataframe\">\n",
       "  <thead>\n",
       "    <tr style=\"text-align: right;\">\n",
       "      <th></th>\n",
       "      <th>source</th>\n",
       "      <th>type</th>\n",
       "      <th>start</th>\n",
       "      <th>end</th>\n",
       "      <th>score</th>\n",
       "      <th>strand</th>\n",
       "      <th>phase</th>\n",
       "      <th>attributes</th>\n",
       "    </tr>\n",
       "    <tr>\n",
       "      <th>seqid</th>\n",
       "      <th></th>\n",
       "      <th></th>\n",
       "      <th></th>\n",
       "      <th></th>\n",
       "      <th></th>\n",
       "      <th></th>\n",
       "      <th></th>\n",
       "      <th></th>\n",
       "    </tr>\n",
       "  </thead>\n",
       "  <tbody>\n",
       "    <tr>\n",
       "      <th>ctg123</th>\n",
       "      <td>.</td>\n",
       "      <td>mRNA</td>\n",
       "      <td>13</td>\n",
       "      <td>90</td>\n",
       "      <td>.</td>\n",
       "      <td>-</td>\n",
       "      <td>.</td>\n",
       "      <td>ID=mrna0001;Name=sonichedgehog</td>\n",
       "    </tr>\n",
       "    <tr>\n",
       "      <th>ctg123</th>\n",
       "      <td>.</td>\n",
       "      <td>exon</td>\n",
       "      <td>13</td>\n",
       "      <td>50</td>\n",
       "      <td>.</td>\n",
       "      <td>-</td>\n",
       "      <td>.</td>\n",
       "      <td>ID=exon00001;Parent=mrna0001</td>\n",
       "    </tr>\n",
       "    <tr>\n",
       "      <th>ctg123</th>\n",
       "      <td>.</td>\n",
       "      <td>exon</td>\n",
       "      <td>60</td>\n",
       "      <td>90</td>\n",
       "      <td>.</td>\n",
       "      <td>-</td>\n",
       "      <td>.</td>\n",
       "      <td>ID=exon00002;Parent=mrna0001</td>\n",
       "    </tr>\n",
       "  </tbody>\n",
       "</table>\n",
       "</div>"
      ],
      "text/plain": [
       "       source  type  start  end score strand phase  \\\n",
       "seqid                                                \n",
       "ctg123      .  mRNA     13   90     .      -     .   \n",
       "ctg123      .  exon     13   50     .      -     .   \n",
       "ctg123      .  exon     60   90     .      -     .   \n",
       "\n",
       "                            attributes  \n",
       "seqid                                   \n",
       "ctg123  ID=mrna0001;Name=sonichedgehog  \n",
       "ctg123    ID=exon00001;Parent=mrna0001  \n",
       "ctg123    ID=exon00002;Parent=mrna0001  "
      ]
     },
     "execution_count": 72,
     "metadata": {},
     "output_type": "execute_result"
    }
   ],
   "source": [
    "df[df.strand==\"-\"]"
   ]
  },
  {
   "cell_type": "markdown",
   "metadata": {},
   "source": [
    "Or find exons that end after 90 position"
   ]
  },
  {
   "cell_type": "code",
   "execution_count": 74,
   "metadata": {},
   "outputs": [
    {
     "data": {
      "text/html": [
       "<div>\n",
       "<style scoped>\n",
       "    .dataframe tbody tr th:only-of-type {\n",
       "        vertical-align: middle;\n",
       "    }\n",
       "\n",
       "    .dataframe tbody tr th {\n",
       "        vertical-align: top;\n",
       "    }\n",
       "\n",
       "    .dataframe thead th {\n",
       "        text-align: right;\n",
       "    }\n",
       "</style>\n",
       "<table border=\"1\" class=\"dataframe\">\n",
       "  <thead>\n",
       "    <tr style=\"text-align: right;\">\n",
       "      <th></th>\n",
       "      <th>source</th>\n",
       "      <th>type</th>\n",
       "      <th>start</th>\n",
       "      <th>end</th>\n",
       "      <th>score</th>\n",
       "      <th>strand</th>\n",
       "      <th>phase</th>\n",
       "      <th>attributes</th>\n",
       "    </tr>\n",
       "    <tr>\n",
       "      <th>seqid</th>\n",
       "      <th></th>\n",
       "      <th></th>\n",
       "      <th></th>\n",
       "      <th></th>\n",
       "      <th></th>\n",
       "      <th></th>\n",
       "      <th></th>\n",
       "      <th></th>\n",
       "    </tr>\n",
       "  </thead>\n",
       "  <tbody>\n",
       "    <tr>\n",
       "      <th>ctg456</th>\n",
       "      <td>.</td>\n",
       "      <td>exon</td>\n",
       "      <td>120</td>\n",
       "      <td>135</td>\n",
       "      <td>.</td>\n",
       "      <td>+</td>\n",
       "      <td>.</td>\n",
       "      <td>ID=exon00001;Parent=mrna0002</td>\n",
       "    </tr>\n",
       "    <tr>\n",
       "      <th>ctg456</th>\n",
       "      <td>.</td>\n",
       "      <td>exon</td>\n",
       "      <td>180</td>\n",
       "      <td>200</td>\n",
       "      <td>.</td>\n",
       "      <td>+</td>\n",
       "      <td>.</td>\n",
       "      <td>ID=exon00001;Parent=mrna0002</td>\n",
       "    </tr>\n",
       "  </tbody>\n",
       "</table>\n",
       "</div>"
      ],
      "text/plain": [
       "       source  type  start  end score strand phase  \\\n",
       "seqid                                                \n",
       "ctg456      .  exon    120  135     .      +     .   \n",
       "ctg456      .  exon    180  200     .      +     .   \n",
       "\n",
       "                          attributes  \n",
       "seqid                                 \n",
       "ctg456  ID=exon00001;Parent=mrna0002  \n",
       "ctg456  ID=exon00001;Parent=mrna0002  "
      ]
     },
     "execution_count": 74,
     "metadata": {},
     "output_type": "execute_result"
    }
   ],
   "source": [
    "df[(df.type == \"exon\") & (df.end > 90)]"
   ]
  },
  {
   "cell_type": "markdown",
   "metadata": {},
   "source": [
    "Other exemplo: You'd like to find the ID specific of row"
   ]
  },
  {
   "cell_type": "code",
   "execution_count": 79,
   "metadata": {},
   "outputs": [
    {
     "data": {
      "text/html": [
       "<div>\n",
       "<style scoped>\n",
       "    .dataframe tbody tr th:only-of-type {\n",
       "        vertical-align: middle;\n",
       "    }\n",
       "\n",
       "    .dataframe tbody tr th {\n",
       "        vertical-align: top;\n",
       "    }\n",
       "\n",
       "    .dataframe thead th {\n",
       "        text-align: right;\n",
       "    }\n",
       "</style>\n",
       "<table border=\"1\" class=\"dataframe\">\n",
       "  <thead>\n",
       "    <tr style=\"text-align: right;\">\n",
       "      <th></th>\n",
       "      <th>source</th>\n",
       "      <th>type</th>\n",
       "      <th>start</th>\n",
       "      <th>end</th>\n",
       "      <th>score</th>\n",
       "      <th>strand</th>\n",
       "      <th>phase</th>\n",
       "      <th>attributes</th>\n",
       "    </tr>\n",
       "    <tr>\n",
       "      <th>seqid</th>\n",
       "      <th></th>\n",
       "      <th></th>\n",
       "      <th></th>\n",
       "      <th></th>\n",
       "      <th></th>\n",
       "      <th></th>\n",
       "      <th></th>\n",
       "      <th></th>\n",
       "    </tr>\n",
       "  </thead>\n",
       "  <tbody>\n",
       "  </tbody>\n",
       "</table>\n",
       "</div>"
      ],
      "text/plain": [
       "Empty DataFrame\n",
       "Columns: [source, type, start, end, score, strand, phase, attributes]\n",
       "Index: []"
      ]
     },
     "execution_count": 79,
     "metadata": {},
     "output_type": "execute_result"
    }
   ],
   "source": [
    "df[df.attributes == \"exon00001\"]"
   ]
  },
  {
   "cell_type": "markdown",
   "metadata": {},
   "source": [
    "You need use ``str.contains``, because your row ``attributes`` contains ID, and not is equal a ID"
   ]
  },
  {
   "cell_type": "code",
   "execution_count": 80,
   "metadata": {},
   "outputs": [
    {
     "data": {
      "text/html": [
       "<div>\n",
       "<style scoped>\n",
       "    .dataframe tbody tr th:only-of-type {\n",
       "        vertical-align: middle;\n",
       "    }\n",
       "\n",
       "    .dataframe tbody tr th {\n",
       "        vertical-align: top;\n",
       "    }\n",
       "\n",
       "    .dataframe thead th {\n",
       "        text-align: right;\n",
       "    }\n",
       "</style>\n",
       "<table border=\"1\" class=\"dataframe\">\n",
       "  <thead>\n",
       "    <tr style=\"text-align: right;\">\n",
       "      <th></th>\n",
       "      <th>source</th>\n",
       "      <th>type</th>\n",
       "      <th>start</th>\n",
       "      <th>end</th>\n",
       "      <th>score</th>\n",
       "      <th>strand</th>\n",
       "      <th>phase</th>\n",
       "      <th>attributes</th>\n",
       "    </tr>\n",
       "    <tr>\n",
       "      <th>seqid</th>\n",
       "      <th></th>\n",
       "      <th></th>\n",
       "      <th></th>\n",
       "      <th></th>\n",
       "      <th></th>\n",
       "      <th></th>\n",
       "      <th></th>\n",
       "      <th></th>\n",
       "    </tr>\n",
       "  </thead>\n",
       "  <tbody>\n",
       "    <tr>\n",
       "      <th>ctg123</th>\n",
       "      <td>.</td>\n",
       "      <td>exon</td>\n",
       "      <td>13</td>\n",
       "      <td>50</td>\n",
       "      <td>.</td>\n",
       "      <td>-</td>\n",
       "      <td>.</td>\n",
       "      <td>ID=exon00001;Parent=mrna0001</td>\n",
       "    </tr>\n",
       "    <tr>\n",
       "      <th>ctg456</th>\n",
       "      <td>.</td>\n",
       "      <td>exon</td>\n",
       "      <td>120</td>\n",
       "      <td>135</td>\n",
       "      <td>.</td>\n",
       "      <td>+</td>\n",
       "      <td>.</td>\n",
       "      <td>ID=exon00001;Parent=mrna0002</td>\n",
       "    </tr>\n",
       "    <tr>\n",
       "      <th>ctg456</th>\n",
       "      <td>.</td>\n",
       "      <td>exon</td>\n",
       "      <td>180</td>\n",
       "      <td>200</td>\n",
       "      <td>.</td>\n",
       "      <td>+</td>\n",
       "      <td>.</td>\n",
       "      <td>ID=exon00001;Parent=mrna0002</td>\n",
       "    </tr>\n",
       "  </tbody>\n",
       "</table>\n",
       "</div>"
      ],
      "text/plain": [
       "       source  type  start  end score strand phase  \\\n",
       "seqid                                                \n",
       "ctg123      .  exon     13   50     .      -     .   \n",
       "ctg456      .  exon    120  135     .      +     .   \n",
       "ctg456      .  exon    180  200     .      +     .   \n",
       "\n",
       "                          attributes  \n",
       "seqid                                 \n",
       "ctg123  ID=exon00001;Parent=mrna0001  \n",
       "ctg456  ID=exon00001;Parent=mrna0002  \n",
       "ctg456  ID=exon00001;Parent=mrna0002  "
      ]
     },
     "execution_count": 80,
     "metadata": {},
     "output_type": "execute_result"
    }
   ],
   "source": [
    "df[df.attributes.str.contains(\"exon00001\")]"
   ]
  },
  {
   "cell_type": "markdown",
   "metadata": {},
   "source": [
    "You can group your data, like this, I'd like to know how many mRNA with negative strand I have "
   ]
  },
  {
   "cell_type": "code",
   "execution_count": 88,
   "metadata": {},
   "outputs": [
    {
     "data": {
      "text/plain": [
       "2"
      ]
     },
     "execution_count": 88,
     "metadata": {},
     "output_type": "execute_result"
    }
   ],
   "source": [
    "df[df.type == \"mRNA\"].groupby(\"strand\").count().shape[0]"
   ]
  },
  {
   "cell_type": "markdown",
   "metadata": {},
   "source": [
    "To create a Dataframe it is possible with dict with:\n",
    "\n",
    "<ul>\n",
    "<li>Dict of 1D ndarrays, lists, dicts, or Series</li>\n",
    "<li>2-D numpy.ndarray</li>\n",
    "<li>Structured or record ndarray</li>\n",
    "<li>A Series</li>\n",
    "<li>Another DataFrame</li>\n",
    "</ul>\n",
    "\n",
    "Below it is create with dict:"
   ]
  },
  {
   "cell_type": "code",
   "execution_count": 132,
   "metadata": {},
   "outputs": [
    {
     "data": {
      "text/html": [
       "<div>\n",
       "<style scoped>\n",
       "    .dataframe tbody tr th:only-of-type {\n",
       "        vertical-align: middle;\n",
       "    }\n",
       "\n",
       "    .dataframe tbody tr th {\n",
       "        vertical-align: top;\n",
       "    }\n",
       "\n",
       "    .dataframe thead th {\n",
       "        text-align: right;\n",
       "    }\n",
       "</style>\n",
       "<table border=\"1\" class=\"dataframe\">\n",
       "  <thead>\n",
       "    <tr style=\"text-align: right;\">\n",
       "      <th></th>\n",
       "      <th>source</th>\n",
       "      <th>type</th>\n",
       "      <th>start</th>\n",
       "      <th>end</th>\n",
       "      <th>score</th>\n",
       "      <th>strand</th>\n",
       "      <th>phase</th>\n",
       "      <th>attributes</th>\n",
       "    </tr>\n",
       "    <tr>\n",
       "      <th>seqid</th>\n",
       "      <th></th>\n",
       "      <th></th>\n",
       "      <th></th>\n",
       "      <th></th>\n",
       "      <th></th>\n",
       "      <th></th>\n",
       "      <th></th>\n",
       "      <th></th>\n",
       "    </tr>\n",
       "  </thead>\n",
       "  <tbody>\n",
       "    <tr>\n",
       "      <th>ctg789</th>\n",
       "      <td>.</td>\n",
       "      <td>mRNA</td>\n",
       "      <td>400</td>\n",
       "      <td>700</td>\n",
       "      <td>.</td>\n",
       "      <td>-</td>\n",
       "      <td>.</td>\n",
       "      <td>ID=mrna00003;Parent=mrna00003</td>\n",
       "    </tr>\n",
       "    <tr>\n",
       "      <th>ctg789</th>\n",
       "      <td>.</td>\n",
       "      <td>exon</td>\n",
       "      <td>400</td>\n",
       "      <td>500</td>\n",
       "      <td>.</td>\n",
       "      <td>-</td>\n",
       "      <td>.</td>\n",
       "      <td>ID=exon00001;Parent=mrna00003</td>\n",
       "    </tr>\n",
       "    <tr>\n",
       "      <th>ctg789</th>\n",
       "      <td>.</td>\n",
       "      <td>exon</td>\n",
       "      <td>600</td>\n",
       "      <td>700</td>\n",
       "      <td>.</td>\n",
       "      <td>-</td>\n",
       "      <td>.</td>\n",
       "      <td>ID=exon00002;Parent=mrna00003</td>\n",
       "    </tr>\n",
       "  </tbody>\n",
       "</table>\n",
       "</div>"
      ],
      "text/plain": [
       "       source  type start  end score strand phase  \\\n",
       "seqid                                               \n",
       "ctg789      .  mRNA   400  700     .      -     .   \n",
       "ctg789      .  exon   400  500     .      -     .   \n",
       "ctg789      .  exon   600  700     .      -     .   \n",
       "\n",
       "                           attributes  \n",
       "seqid                                  \n",
       "ctg789  ID=mrna00003;Parent=mrna00003  \n",
       "ctg789  ID=exon00001;Parent=mrna00003  \n",
       "ctg789  ID=exon00002;Parent=mrna00003  "
      ]
     },
     "execution_count": 132,
     "metadata": {},
     "output_type": "execute_result"
    }
   ],
   "source": [
    "d = {\"source\":[\".\",\".\",\".\"],\n",
    "     \"type\":[\"mRNA\",\"exon\",\"exon\"],\n",
    "     \"start\":[\"400\",\"400\",\"600\"],\n",
    "     \"end\":[\"700\",\"500\",\"700\"],\n",
    "     \"score\":[\".\",\".\",\".\"],\n",
    "     \"strand\":[\"-\",\"-\",\"-\"],\n",
    "     \"phase\":[\".\",\".\",\".\"],\n",
    "     \"attributes\":[\"ID=mrna00003;Parent=mrna00003\",\"ID=exon00001;Parent=mrna00003\",\"ID=exon00002;Parent=mrna00003\"]}\n",
    "      \n",
    "df2 = pd.DataFrame(d, columns=[\"source\", \"type\", \"start\" , \"end\", \"score\", \"strand\", \"phase\", \"attributes\"], index=[\"ctg789\",\"ctg789\",\"ctg789\"])\n",
    "df2.index.name = \"seqid\"\n",
    "df2"
   ]
  },
  {
   "cell_type": "markdown",
   "metadata": {},
   "source": [
    "It is possible merge dataframes, using ``concat``"
   ]
  },
  {
   "cell_type": "code",
   "execution_count": 138,
   "metadata": {},
   "outputs": [
    {
     "data": {
      "text/html": [
       "<div>\n",
       "<style scoped>\n",
       "    .dataframe tbody tr th:only-of-type {\n",
       "        vertical-align: middle;\n",
       "    }\n",
       "\n",
       "    .dataframe tbody tr th {\n",
       "        vertical-align: top;\n",
       "    }\n",
       "\n",
       "    .dataframe thead th {\n",
       "        text-align: right;\n",
       "    }\n",
       "</style>\n",
       "<table border=\"1\" class=\"dataframe\">\n",
       "  <thead>\n",
       "    <tr style=\"text-align: right;\">\n",
       "      <th></th>\n",
       "      <th>source</th>\n",
       "      <th>type</th>\n",
       "      <th>start</th>\n",
       "      <th>end</th>\n",
       "      <th>score</th>\n",
       "      <th>strand</th>\n",
       "      <th>phase</th>\n",
       "      <th>attributes</th>\n",
       "    </tr>\n",
       "    <tr>\n",
       "      <th>seqid</th>\n",
       "      <th></th>\n",
       "      <th></th>\n",
       "      <th></th>\n",
       "      <th></th>\n",
       "      <th></th>\n",
       "      <th></th>\n",
       "      <th></th>\n",
       "      <th></th>\n",
       "    </tr>\n",
       "  </thead>\n",
       "  <tbody>\n",
       "    <tr>\n",
       "      <th>ctg123</th>\n",
       "      <td>.</td>\n",
       "      <td>mRNA</td>\n",
       "      <td>13</td>\n",
       "      <td>90</td>\n",
       "      <td>.</td>\n",
       "      <td>-</td>\n",
       "      <td>.</td>\n",
       "      <td>ID=mrna0001;Name=sonichedgehog</td>\n",
       "    </tr>\n",
       "    <tr>\n",
       "      <th>ctg123</th>\n",
       "      <td>.</td>\n",
       "      <td>exon</td>\n",
       "      <td>13</td>\n",
       "      <td>50</td>\n",
       "      <td>.</td>\n",
       "      <td>-</td>\n",
       "      <td>.</td>\n",
       "      <td>ID=exon00001;Parent=mrna0001</td>\n",
       "    </tr>\n",
       "    <tr>\n",
       "      <th>ctg123</th>\n",
       "      <td>.</td>\n",
       "      <td>exon</td>\n",
       "      <td>60</td>\n",
       "      <td>90</td>\n",
       "      <td>.</td>\n",
       "      <td>-</td>\n",
       "      <td>.</td>\n",
       "      <td>ID=exon00002;Parent=mrna0001</td>\n",
       "    </tr>\n",
       "    <tr>\n",
       "      <th>ctg456</th>\n",
       "      <td>.</td>\n",
       "      <td>mRNA</td>\n",
       "      <td>120</td>\n",
       "      <td>200</td>\n",
       "      <td>.</td>\n",
       "      <td>+</td>\n",
       "      <td>.</td>\n",
       "      <td>ID=mrna0002;Parent=mrna0002</td>\n",
       "    </tr>\n",
       "    <tr>\n",
       "      <th>ctg456</th>\n",
       "      <td>.</td>\n",
       "      <td>exon</td>\n",
       "      <td>120</td>\n",
       "      <td>135</td>\n",
       "      <td>.</td>\n",
       "      <td>+</td>\n",
       "      <td>.</td>\n",
       "      <td>ID=exon00001;Parent=mrna0002</td>\n",
       "    </tr>\n",
       "    <tr>\n",
       "      <th>ctg456</th>\n",
       "      <td>.</td>\n",
       "      <td>exon</td>\n",
       "      <td>180</td>\n",
       "      <td>200</td>\n",
       "      <td>.</td>\n",
       "      <td>+</td>\n",
       "      <td>.</td>\n",
       "      <td>ID=exon00001;Parent=mrna0002</td>\n",
       "    </tr>\n",
       "    <tr>\n",
       "      <th>ctg789</th>\n",
       "      <td>.</td>\n",
       "      <td>mRNA</td>\n",
       "      <td>400</td>\n",
       "      <td>700</td>\n",
       "      <td>.</td>\n",
       "      <td>-</td>\n",
       "      <td>.</td>\n",
       "      <td>ID=mrna00003;Parent=mrna00003</td>\n",
       "    </tr>\n",
       "    <tr>\n",
       "      <th>ctg789</th>\n",
       "      <td>.</td>\n",
       "      <td>exon</td>\n",
       "      <td>400</td>\n",
       "      <td>500</td>\n",
       "      <td>.</td>\n",
       "      <td>-</td>\n",
       "      <td>.</td>\n",
       "      <td>ID=exon00001;Parent=mrna00003</td>\n",
       "    </tr>\n",
       "    <tr>\n",
       "      <th>ctg789</th>\n",
       "      <td>.</td>\n",
       "      <td>exon</td>\n",
       "      <td>600</td>\n",
       "      <td>700</td>\n",
       "      <td>.</td>\n",
       "      <td>-</td>\n",
       "      <td>.</td>\n",
       "      <td>ID=exon00002;Parent=mrna00003</td>\n",
       "    </tr>\n",
       "  </tbody>\n",
       "</table>\n",
       "</div>"
      ],
      "text/plain": [
       "       source  type start  end score strand phase  \\\n",
       "seqid                                               \n",
       "ctg123      .  mRNA    13   90     .      -     .   \n",
       "ctg123      .  exon    13   50     .      -     .   \n",
       "ctg123      .  exon    60   90     .      -     .   \n",
       "ctg456      .  mRNA   120  200     .      +     .   \n",
       "ctg456      .  exon   120  135     .      +     .   \n",
       "ctg456      .  exon   180  200     .      +     .   \n",
       "ctg789      .  mRNA   400  700     .      -     .   \n",
       "ctg789      .  exon   400  500     .      -     .   \n",
       "ctg789      .  exon   600  700     .      -     .   \n",
       "\n",
       "                            attributes  \n",
       "seqid                                   \n",
       "ctg123  ID=mrna0001;Name=sonichedgehog  \n",
       "ctg123    ID=exon00001;Parent=mrna0001  \n",
       "ctg123    ID=exon00002;Parent=mrna0001  \n",
       "ctg456     ID=mrna0002;Parent=mrna0002  \n",
       "ctg456    ID=exon00001;Parent=mrna0002  \n",
       "ctg456    ID=exon00001;Parent=mrna0002  \n",
       "ctg789   ID=mrna00003;Parent=mrna00003  \n",
       "ctg789   ID=exon00001;Parent=mrna00003  \n",
       "ctg789   ID=exon00002;Parent=mrna00003  "
      ]
     },
     "execution_count": 138,
     "metadata": {},
     "output_type": "execute_result"
    }
   ],
   "source": [
    "result = pd.concat([df,df2])\n",
    "result"
   ]
  },
  {
   "cell_type": "markdown",
   "metadata": {},
   "source": [
    "<h3>Pandas is a world, for more information see at: https://pandas.pydata.org/pandas-docs/stable/index.html</h3>"
   ]
  }
 ],
 "metadata": {
  "kernelspec": {
   "display_name": "Python 3",
   "language": "python",
   "name": "python3"
  },
  "language_info": {
   "codemirror_mode": {
    "name": "ipython",
    "version": 3
   },
   "file_extension": ".py",
   "mimetype": "text/x-python",
   "name": "python",
   "nbconvert_exporter": "python",
   "pygments_lexer": "ipython3",
   "version": "3.6.4"
  }
 },
 "nbformat": 4,
 "nbformat_minor": 2
}
